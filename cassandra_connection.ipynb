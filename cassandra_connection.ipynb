{
 "cells": [
  {
   "cell_type": "code",
   "execution_count": null,
   "metadata": {},
   "outputs": [],
   "source": [
    "#!pip3 install cassandra-driver"
   ]
  },
  {
   "cell_type": "code",
   "execution_count": null,
   "metadata": {},
   "outputs": [],
   "source": [
    "# Importing packages\n",
    "\n",
    "from cassandra.cluster import Cluster\n",
    "from cassandra.auth import PlainTextAuthProvider\n",
    "import csv\n",
    "import uuid"
   ]
  },
  {
   "cell_type": "code",
   "execution_count": null,
   "metadata": {},
   "outputs": [],
   "source": [
    "ASTRA_DB_ID = '19cf8906-f987-4b74-a9a9-1ca42c56e000'\n",
    "ASTRA_DB_REGION = 'us-east1'\n",
    "ASTRA_DB_APPLICATION_TOKEN = 'AstraCS:oooCMShTTrtnyocJlEpAnSEr:3233df889ee8dedfcc3c4a252d3e676ff09821828f40d0c247df5628f7e7e666'\n",
    "ASTRA_DB_KEYSPACE = 'insurance_keyspace'\n",
    "ASTRA_DB_COLLECTION= 'insurance_collection'\n",
    "ASTRA_CLIENT_ID = 'oooCMShTTrtnyocJlEpAnSEr'\n",
    "ASTRA_CLIENT_SECRET = '87ZyISoBoXZSkgtZfHIq1P-C9y+PzZpwHMQLfxXJ6n0SbyS9tJRx2+ju4h.1QCu,lNYzPZYhHm6K6M.c-oH7UMt27Z.yuvxUPU4czu48qlzQZvt5XZ4ePwpy6SSHBPd6'"
   ]
  },
  {
   "cell_type": "code",
   "execution_count": null,
   "metadata": {},
   "outputs": [],
   "source": [
    "# Connecting to Astra Database\n",
    "\n",
    "cloud_config = {'secure_connect_bundle': r\"secure-connect-insurance.zip\"}\n",
    "\n",
    "cloud_config"
   ]
  },
  {
   "cell_type": "code",
   "execution_count": null,
   "metadata": {},
   "outputs": [],
   "source": [
    "# Creating auth_provider\n",
    "\n",
    "auth_provider = PlainTextAuthProvider(ASTRA_CLIENT_ID, ASTRA_CLIENT_SECRET)\n",
    "\n",
    "auth_provider"
   ]
  },
  {
   "cell_type": "code",
   "execution_count": null,
   "metadata": {},
   "outputs": [],
   "source": [
    "Cluster = Cluster(cloud= cloud_config, auth_provider= auth_provider)\n",
    "\n",
    "Cluster"
   ]
  },
  {
   "cell_type": "code",
   "execution_count": null,
   "metadata": {},
   "outputs": [],
   "source": [
    "session = Cluster.connect()"
   ]
  },
  {
   "cell_type": "code",
   "execution_count": null,
   "metadata": {},
   "outputs": [],
   "source": [
    "drop_table_cql = f\"DROP TABLE IF EXISTS {ASTRA_DB_KEYSPACE}.{ASTRA_DB_COLLECTION}\""
   ]
  },
  {
   "cell_type": "code",
   "execution_count": null,
   "metadata": {},
   "outputs": [],
   "source": [
    "create_table_cql = f\"CREATE TABLE IF NOT EXISTS {ASTRA_DB_KEYSPACE}.{ASTRA_DB_COLLECTION} (\\\n",
    "                    customer_id UUID PRIMARY KEY, \\\n",
    "                    age INT, \\\n",
    "                    sex VARCHAR, \\\n",
    "                    bmi FLOAT, \\\n",
    "                    children INT, \\\n",
    "                    smoker VARCHAR, \\\n",
    "                    region VARCHAR, \\\n",
    "                    expenses FLOAT);\" "
   ]
  },
  {
   "cell_type": "code",
   "execution_count": null,
   "metadata": {},
   "outputs": [],
   "source": [
    "session.execute(drop_table_cql)\n",
    "session.execute(create_table_cql)"
   ]
  },
  {
   "cell_type": "code",
   "execution_count": null,
   "metadata": {},
   "outputs": [],
   "source": [
    "csv_file = \"insurance.csv\""
   ]
  },
  {
   "cell_type": "code",
   "execution_count": null,
   "metadata": {},
   "outputs": [],
   "source": [
    "# Preparing the INSERT INTO quary with placeholders\n",
    "\n",
    "insert_query = f\"INSERT INTO {ASTRA_DB_KEYSPACE}.{ASTRA_DB_COLLECTION} \" \\\n",
    "                \"(customer_id, age, sex, bmi, children, smoker, region, expenses)\" \\\n",
    "                \"VALUES(?, ?, ?, ?, ?, ?, ?, ?);\""
   ]
  },
  {
   "cell_type": "code",
   "execution_count": null,
   "metadata": {},
   "outputs": [],
   "source": [
    "\n",
    "with open(csv_file, 'r') as file:\n",
    "    csv_reader = csv.DictReader(file)\n",
    "    for row in csv_reader:\n",
    "        customer_id = uuid.uuid4()\n",
    "        age = int(row[\"age\"])\n",
    "        sex = row['sex']\n",
    "        bmi = float(row['bmi'])\n",
    "        children = int(row['children'])\n",
    "        smoker = row[\"smoker\"]\n",
    "        region = row['region']\n",
    "        expenses = float(row['expenses'])\n",
    "\n",
    "        # Execute the INSERT query with parameterized values\n",
    "        prepared = session.prepare(insert_query)\n",
    "        session.execute(prepared, (customer_id, age, sex, bmi, children, smoker, region, expenses))\n",
    "    print(\"Success!\")"
   ]
  },
  {
   "cell_type": "code",
   "execution_count": null,
   "metadata": {},
   "outputs": [],
   "source": [
    "rows = session.execute(f\"SELECT * FROM {ASTRA_DB_KEYSPACE}.{ASTRA_DB_COLLECTION}\")\n",
    "\n",
    "for row in rows[:20]:\n",
    "    # customer_id, age, bmi, children, expenses, region, sex, smoker\n",
    "    print(row[0], row[1], round(row[2],2), row[3], round(row[4],2), row[5], row[6], row[7])"
   ]
  }
 ],
 "metadata": {
  "kernelspec": {
   "display_name": "insurance",
   "language": "python",
   "name": "python3"
  },
  "language_info": {
   "codemirror_mode": {
    "name": "ipython",
    "version": 3
   },
   "file_extension": ".py",
   "mimetype": "text/x-python",
   "name": "python",
   "nbconvert_exporter": "python",
   "pygments_lexer": "ipython3",
   "version": "3.11.2"
  }
 },
 "nbformat": 4,
 "nbformat_minor": 2
}
