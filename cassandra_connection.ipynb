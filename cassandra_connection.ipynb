{
 "cells": [
  {
   "cell_type": "code",
   "execution_count": 2,
   "metadata": {},
   "outputs": [],
   "source": [
    "#!pip3 install cassandra-driver"
   ]
  },
  {
   "cell_type": "code",
   "execution_count": 3,
   "metadata": {},
   "outputs": [],
   "source": [
    "# Importing packages\n",
    "\n",
    "from cassandra.cluster import Cluster\n",
    "from cassandra.auth import PlainTextAuthProvider\n",
    "import csv\n",
    "import uuid"
   ]
  },
  {
   "cell_type": "code",
   "execution_count": 4,
   "metadata": {},
   "outputs": [],
   "source": [
    "# From console it is assigned \n",
    "ASTRA_DB_ID = '19cf8906-f987-4b74-a9a9-1ca42c56e000'\n",
    "ASTRA_DB_REGION = 'us-east1'\n",
    "ASTRA_DB_APPLICATION_TOKEN = 'AstraCS:oooCMShTTrtnyocJlEpAnSEr:3233df889ee8dedfcc3c4a252d3e676ff09821828f40d0c247df5628f7e7e666'\n",
    "\n",
    "# Defined at the time of database creation\n",
    "ASTRA_DB_KEYSPACE = 'insurance_keyspace'\n",
    "ASTRA_DB_COLLECTION= 'insurance_collection'\n",
    "\n",
    "# From generated token file\n",
    "ASTRA_CLIENT_ID = 'oooCMShTTrtnyocJlEpAnSEr' \n",
    "ASTRA_CLIENT_SECRET = '87ZyISoBoXZSkgtZfHIq1P-C9y+PzZpwHMQLfxXJ6n0SbyS9tJRx2+ju4h.1QCu,lNYzPZYhHm6K6M.c-oH7UMt27Z.yuvxUPU4czu48qlzQZvt5XZ4ePwpy6SSHBPd6'"
   ]
  },
  {
   "cell_type": "code",
   "execution_count": 5,
   "metadata": {},
   "outputs": [
    {
     "data": {
      "text/plain": [
       "{'secure_connect_bundle': 'secure-connect-insurance.zip'}"
      ]
     },
     "execution_count": 5,
     "metadata": {},
     "output_type": "execute_result"
    }
   ],
   "source": [
    "# Connecting to Astra Database\n",
    "\n",
    "cloud_config = {'secure_connect_bundle': r\"secure-connect-insurance.zip\"}\n",
    "\n",
    "cloud_config"
   ]
  },
  {
   "cell_type": "code",
   "execution_count": 6,
   "metadata": {},
   "outputs": [
    {
     "data": {
      "text/plain": [
       "<cassandra.auth.PlainTextAuthProvider at 0x1eeb764d7d0>"
      ]
     },
     "execution_count": 6,
     "metadata": {},
     "output_type": "execute_result"
    }
   ],
   "source": [
    "# Creating auth_provider\n",
    "\n",
    "auth_provider = PlainTextAuthProvider(ASTRA_CLIENT_ID, ASTRA_CLIENT_SECRET)\n",
    "\n",
    "auth_provider"
   ]
  },
  {
   "cell_type": "code",
   "execution_count": 7,
   "metadata": {},
   "outputs": [
    {
     "data": {
      "text/plain": [
       "<cassandra.cluster.Cluster at 0x1eeb754ff50>"
      ]
     },
     "execution_count": 7,
     "metadata": {},
     "output_type": "execute_result"
    }
   ],
   "source": [
    "# Cluster is a collection of nodes (servers) that work together to store and manage data\n",
    "\n",
    "Cluster = Cluster(cloud= cloud_config, auth_provider= auth_provider)\n",
    "\n",
    "Cluster"
   ]
  },
  {
   "cell_type": "code",
   "execution_count": 8,
   "metadata": {},
   "outputs": [],
   "source": [
    "session = Cluster.connect()"
   ]
  },
  {
   "cell_type": "code",
   "execution_count": 9,
   "metadata": {},
   "outputs": [],
   "source": [
    "drop_table_cql = f\"DROP TABLE IF EXISTS {ASTRA_DB_KEYSPACE}.{ASTRA_DB_COLLECTION}\""
   ]
  },
  {
   "cell_type": "code",
   "execution_count": 10,
   "metadata": {},
   "outputs": [],
   "source": [
    "# Creating table for data loading in keyspace-> collection\n",
    "create_table_cql = f\"CREATE TABLE IF NOT EXISTS {ASTRA_DB_KEYSPACE}.{ASTRA_DB_COLLECTION} (\\\n",
    "                    customer_id UUID PRIMARY KEY, \\\n",
    "                    age INT, \\\n",
    "                    sex VARCHAR, \\\n",
    "                    bmi FLOAT, \\\n",
    "                    children INT, \\\n",
    "                    smoker VARCHAR, \\\n",
    "                    region VARCHAR, \\\n",
    "                    expenses FLOAT);\" "
   ]
  },
  {
   "cell_type": "code",
   "execution_count": 11,
   "metadata": {},
   "outputs": [
    {
     "data": {
      "text/plain": [
       "<cassandra.cluster.ResultSet at 0x1eeb7632dd0>"
      ]
     },
     "execution_count": 11,
     "metadata": {},
     "output_type": "execute_result"
    }
   ],
   "source": [
    "# Executing quaries in cql (Cassandra query language)\n",
    "session.execute(drop_table_cql)\n",
    "session.execute(create_table_cql)"
   ]
  },
  {
   "cell_type": "code",
   "execution_count": 12,
   "metadata": {},
   "outputs": [],
   "source": [
    "# Defining csv_file name\n",
    "csv_file = \"insurance.csv\""
   ]
  },
  {
   "cell_type": "code",
   "execution_count": 13,
   "metadata": {},
   "outputs": [],
   "source": [
    "# Preparing the INSERT INTO quary with placeholders\n",
    "\n",
    "insert_query = f\"INSERT INTO {ASTRA_DB_KEYSPACE}.{ASTRA_DB_COLLECTION} \" \\\n",
    "                \"(customer_id, age, sex, bmi, children, smoker, region, expenses)\" \\\n",
    "                \"VALUES(?, ?, ?, ?, ?, ?, ?, ?);\""
   ]
  },
  {
   "cell_type": "code",
   "execution_count": 14,
   "metadata": {},
   "outputs": [
    {
     "name": "stdout",
     "output_type": "stream",
     "text": [
      "Success!\n"
     ]
    }
   ],
   "source": [
    "# Appending data to keyspace(database container) row by row\n",
    "with open(csv_file, 'r') as file:\n",
    "    csv_reader = csv.DictReader(file)\n",
    "    for row in csv_reader:\n",
    "        customer_id = uuid.uuid4()\n",
    "        age = int(row[\"age\"])\n",
    "        sex = row['sex']\n",
    "        bmi = float(row['bmi'])\n",
    "        children = int(row['children'])\n",
    "        smoker = row[\"smoker\"]\n",
    "        region = row['region']\n",
    "        expenses = float(row['expenses'])\n",
    "\n",
    "        # Execute the INSERT query with parameterized values\n",
    "        prepared = session.prepare(insert_query)\n",
    "        session.execute(prepared, (customer_id, age, sex, bmi, children, smoker, region, expenses))\n",
    "    print(\"Success!\")"
   ]
  },
  {
   "cell_type": "code",
   "execution_count": 15,
   "metadata": {},
   "outputs": [
    {
     "name": "stdout",
     "output_type": "stream",
     "text": [
      "5a9754e8-1c52-40f3-8f7d-21e316ac61ee 55 21.5 1 10791.96 southwest male no\n",
      "2450426f-7116-41ac-ac23-582c05a54adc 18 17.3 2 12829.46 northeast male yes\n",
      "869cd050-0852-4cf9-843b-6c7f1da77976 48 22.8 0 8269.04 southwest female no\n",
      "319a13db-21c0-446b-b7db-32bd9d115b0f 21 17.4 1 2585.27 southwest female no\n",
      "a9571397-6c1e-4e2d-855a-4db5ee3118d9 64 23.8 0 26926.51 southeast male yes\n",
      "ba3bcc3a-7db2-4521-bd01-577ffbd6877b 54 28.9 2 12096.65 northeast female no\n",
      "3a62b5cf-d365-43d8-9e87-6472536e270d 63 27.0 0 28950.47 northwest female yes\n",
      "f151c92c-abb4-4a55-aebc-24cfe2ca5ef8 23 28.3 0 18033.97 northwest female yes\n",
      "99a1167c-3a3c-4edc-b677-07cdbf51f481 64 39.2 1 14418.28 southeast male no\n",
      "02907b47-85d2-43b0-83ef-6ea2902bc800 59 31.8 2 12928.79 southeast male no\n",
      "232074b8-002e-40ed-82c8-b633a0ccb767 25 25.8 1 3309.79 northeast male no\n",
      "b93423d2-9813-4ce7-94c0-0c9cf556993e 30 35.3 0 36837.47 southwest male yes\n",
      "f343be04-9ce0-4418-afdb-7b9effac2a0b 19 33.1 0 23082.96 southwest male no\n",
      "18cdc647-122a-4ce6-8f11-ee27f6a56425 21 16.8 1 3167.46 northeast female no\n",
      "9dcf1536-3e5b-4bef-bb4b-55b660635991 39 26.2 1 6123.57 northwest male no\n",
      "72618734-9618-498c-a378-18d4e04bccbe 40 28.7 3 8059.68 northwest female no\n",
      "0aeef21f-4619-44a4-9340-3265574de389 40 29.6 0 5910.94 southwest female no\n",
      "e1751eec-3924-4bb1-822a-c250fdc581eb 31 30.9 0 3857.76 northeast male no\n",
      "3610d52b-b2aa-417e-99ef-ed5c42c0f451 44 39.0 0 42983.46 northwest female yes\n",
      "74f498f2-0c3a-49d1-96cb-9628800a8520 26 32.5 1 3490.55 northeast male no\n"
     ]
    }
   ],
   "source": [
    "rows = session.execute(f\"SELECT * FROM {ASTRA_DB_KEYSPACE}.{ASTRA_DB_COLLECTION}\")\n",
    "\n",
    "for row in rows[:20]:\n",
    "    # customer_id, age, bmi, children, expenses, region, sex, smoker\n",
    "    print(row[0], row[1], round(row[2],2), row[3], round(row[4],2), row[5], row[6], row[7])"
   ]
  }
 ],
 "metadata": {
  "kernelspec": {
   "display_name": "insurance",
   "language": "python",
   "name": "python3"
  },
  "language_info": {
   "codemirror_mode": {
    "name": "ipython",
    "version": 3
   },
   "file_extension": ".py",
   "mimetype": "text/x-python",
   "name": "python",
   "nbconvert_exporter": "python",
   "pygments_lexer": "ipython3",
   "version": "3.11.2"
  }
 },
 "nbformat": 4,
 "nbformat_minor": 2
}
